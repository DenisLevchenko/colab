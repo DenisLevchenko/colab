{
  "nbformat": 4,
  "nbformat_minor": 0,
  "metadata": {
    "colab": {
      "name": "trial1.ipynb",
      "provenance": [],
      "authorship_tag": "ABX9TyNR3vL12eNL4uLu4Avs6b5X",
      "include_colab_link": true
    },
    "kernelspec": {
      "name": "python3",
      "display_name": "Python 3"
    }
  },
  "cells": [
    {
      "cell_type": "markdown",
      "metadata": {
        "id": "view-in-github",
        "colab_type": "text"
      },
      "source": [
        "<a href=\"https://colab.research.google.com/github/DenisLevchenko/colab/blob/main/trial1.ipynb\" target=\"_parent\"><img src=\"https://colab.research.google.com/assets/colab-badge.svg\" alt=\"Open In Colab\"/></a>"
      ]
    },
    {
      "cell_type": "markdown",
      "metadata": {
        "id": "-2Y00hhpnaHd"
      },
      "source": [
        "Just messing around, trying things."
      ]
    },
    {
      "cell_type": "code",
      "metadata": {
        "id": "QFgWPWq8nGim",
        "outputId": "69883916-fde5-419c-c5d7-c0d1817f2cc7",
        "colab": {
          "base_uri": "https://localhost:8080/"
        }
      },
      "source": [
        "a = 2 + 2\n",
        "print(a)"
      ],
      "execution_count": null,
      "outputs": [
        {
          "output_type": "stream",
          "text": [
            "4\n"
          ],
          "name": "stdout"
        }
      ]
    }
  ]
}